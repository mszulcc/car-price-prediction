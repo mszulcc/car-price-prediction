{
 "cells": [
  {
   "cell_type": "code",
   "id": "initial_id",
   "metadata": {
    "collapsed": true,
    "ExecuteTime": {
     "end_time": "2025-01-21T23:33:02.479450Z",
     "start_time": "2025-01-21T23:33:00.361451Z"
    }
   },
   "source": [
    "import pandas as pd\n",
    "from sklearn.preprocessing import OneHotEncoder\n"
   ],
   "outputs": [],
   "execution_count": 1
  },
  {
   "metadata": {
    "ExecuteTime": {
     "end_time": "2025-01-21T23:33:03.557296Z",
     "start_time": "2025-01-21T23:33:02.495256Z"
    }
   },
   "cell_type": "code",
   "source": [
    "data = pd.read_csv('car_offers_cleaned.csv', header=0, sep=';')\n",
    "print(data)\n"
   ],
   "id": "c63bcc267f478889",
   "outputs": [
    {
     "name": "stdout",
     "output_type": "stream",
     "text": [
      "                id offer_creation_date  \\\n",
      "0       6106252111    20.04.2023 14:52   \n",
      "1       6103725874    21.04.2023 06:44   \n",
      "2       6109470482    15.04.2023 14:38   \n",
      "3       6108732545    13.04.2023 16:11   \n",
      "4       6108048263    17.04.2023 15:15   \n",
      "...            ...                 ...   \n",
      "201781  6109273843    22.04.2023 17:15   \n",
      "201782  6109658644    20.04.2023 21:35   \n",
      "201783  6107624167    14.04.2023 16:53   \n",
      "201784  6109013940    13.04.2023 20:00   \n",
      "201785  6104364777    19.04.2023 10:47   \n",
      "\n",
      "                                              offer_title   price  \\\n",
      "0                                               Volvo V70   23200   \n",
      "1                                Honda Accord 2.0 Comfort   16800   \n",
      "2               Mercedes-Benz Klasa X 350 d 4-Matic Power  249900   \n",
      "3                            Toyota Avensis 1.8 VVT-i Sol   16499   \n",
      "4                   Ford C-MAX 2.0 TDCi Champions Edition   29900   \n",
      "...                                                   ...     ...   \n",
      "201781                             Honda Accord 3.0 V6 EX   11900   \n",
      "201782  Hyundai I30 i30cw 1.6 CRDi Fifa World Cup Edition   39900   \n",
      "201783                Nissan Qashqai 1.3 DIG-T N-Connecta   94000   \n",
      "201784                          Volvo XC 60 D5 AWD Summum  118500   \n",
      "201785        Lancia Delta 1.8 T-Jet Executive Sportronic   34800   \n",
      "\n",
      "           seller_type  seller_registration_year         voivodeship  \\\n",
      "0               Dealer                      2015         Małopolskie   \n",
      "1       Private person                      2020  Kujawsko-pomorskie   \n",
      "2               Dealer                      2007  Kujawsko-pomorskie   \n",
      "3               Dealer                      2011             Łódzkie   \n",
      "4               Dealer                      2013           Pomorskie   \n",
      "...                ...                       ...                 ...   \n",
      "201781  Private person                      2021         Mazowieckie   \n",
      "201782  Private person                      2016        Dolnośląskie   \n",
      "201783  Private person                      2020             Śląskie   \n",
      "201784  Private person                      2023         Mazowieckie   \n",
      "201785          Dealer                      2016           Lubelskie   \n",
      "\n",
      "             offer_from category  vehicle_brand  ...   radio  \\\n",
      "0                 Firmy  Osobowe          Volvo  ...     NaN   \n",
      "1       Osoby prywatnej  Osobowe          Honda  ...  PRAWDA   \n",
      "2                 Firmy  Osobowe  Mercedes-Benz  ...  PRAWDA   \n",
      "3                 Firmy  Osobowe         Toyota  ...  PRAWDA   \n",
      "4                 Firmy  Osobowe           Ford  ...  PRAWDA   \n",
      "...                 ...      ...            ...  ...     ...   \n",
      "201781  Osoby prywatnej  Osobowe          Honda  ...  PRAWDA   \n",
      "201782  Osoby prywatnej  Osobowe        Hyundai  ...  PRAWDA   \n",
      "201783  Osoby prywatnej  Osobowe         Nissan  ...  PRAWDA   \n",
      "201784  Osoby prywatnej  Osobowe          Volvo  ...  PRAWDA   \n",
      "201785            Firmy  Osobowe         Lancia  ...  PRAWDA   \n",
      "\n",
      "        satellite_navigation_system  sound_system  touchscreen  \\\n",
      "0                               NaN           NaN          NaN   \n",
      "1                            PRAWDA        PRAWDA       PRAWDA   \n",
      "2                            PRAWDA           NaN          NaN   \n",
      "3                               NaN           NaN          NaN   \n",
      "4                            PRAWDA           NaN          NaN   \n",
      "...                             ...           ...          ...   \n",
      "201781                          NaN        PRAWDA          NaN   \n",
      "201782                       PRAWDA        PRAWDA       PRAWDA   \n",
      "201783                       PRAWDA        PRAWDA       PRAWDA   \n",
      "201784                          NaN           NaN          NaN   \n",
      "201785                          NaN        PRAWDA          NaN   \n",
      "\n",
      "       automatic_air_conditioning  partial_leather_upholstery  \\\n",
      "0                             NaN                         NaN   \n",
      "1                          PRAWDA                      PRAWDA   \n",
      "2                          PRAWDA                         NaN   \n",
      "3                             NaN                         NaN   \n",
      "4                             NaN                         NaN   \n",
      "...                           ...                         ...   \n",
      "201781                     PRAWDA                         NaN   \n",
      "201782                        NaN                         NaN   \n",
      "201783                     PRAWDA                         NaN   \n",
      "201784                     PRAWDA                         NaN   \n",
      "201785                        NaN                         NaN   \n",
      "\n",
      "       steering_wheel_with_radio_controls multifunction_steering_wheel  \\\n",
      "0                                     NaN                          NaN   \n",
      "1                                  PRAWDA                       PRAWDA   \n",
      "2                                     NaN                       PRAWDA   \n",
      "3                                  PRAWDA                       PRAWDA   \n",
      "4                                  PRAWDA                          NaN   \n",
      "...                                   ...                          ...   \n",
      "201781                             PRAWDA                       PRAWDA   \n",
      "201782                             PRAWDA                       PRAWDA   \n",
      "201783                             PRAWDA                       PRAWDA   \n",
      "201784                             PRAWDA                          NaN   \n",
      "201785                             PRAWDA                       PRAWDA   \n",
      "\n",
      "        registered_in_poland  first_owner_from_new  \n",
      "0                        NaN                   NaN  \n",
      "1                        NaN                   NaN  \n",
      "2                        Tak                   Tak  \n",
      "3                        NaN                   NaN  \n",
      "4                        NaN                   NaN  \n",
      "...                      ...                   ...  \n",
      "201781                   Tak                   NaN  \n",
      "201782                   NaN                   NaN  \n",
      "201783                   Tak                   NaN  \n",
      "201784                   Tak                   Tak  \n",
      "201785                   NaN                   NaN  \n",
      "\n",
      "[201786 rows x 35 columns]\n"
     ]
    }
   ],
   "execution_count": 2
  },
  {
   "metadata": {
    "ExecuteTime": {
     "end_time": "2025-01-21T23:33:04.643665Z",
     "start_time": "2025-01-21T23:33:03.989373Z"
    }
   },
   "cell_type": "code",
   "source": [
    "data = data.replace('PRAWDA', 1)\n",
    "data[\"fuel_consumption_in_city\"] = data[\"fuel_consumption_in_city\"].astype(str).str.replace(\",\", \".\").astype(float)\n",
    "data['car_age'] = 2023 - data['production_year']\n",
    "\n",
    "data = data.drop(['production_year'], axis=1)"
   ],
   "id": "71e2bd8168209ab2",
   "outputs": [
    {
     "name": "stderr",
     "output_type": "stream",
     "text": [
      "C:\\Users\\mszul\\AppData\\Local\\Temp\\ipykernel_8428\\75427321.py:1: FutureWarning: Downcasting behavior in `replace` is deprecated and will be removed in a future version. To retain the old behavior, explicitly call `result.infer_objects(copy=False)`. To opt-in to the future behavior, set `pd.set_option('future.no_silent_downcasting', True)`\n",
      "  data = data.replace('PRAWDA', 1)\n"
     ]
    }
   ],
   "execution_count": 3
  },
  {
   "metadata": {
    "ExecuteTime": {
     "end_time": "2025-01-21T23:33:04.818724Z",
     "start_time": "2025-01-21T23:33:04.679598Z"
    }
   },
   "cell_type": "code",
   "source": [
    "from sklearn.preprocessing import StandardScaler\n",
    "\n",
    "\n",
    "features = [\n",
    "    'car_age', 'mileage', 'engine_displacement', 'fuel_type', 'power', 'voivodeship', 'offer_from', 'vehicle_brand', 'fuel_consumption_in_city',\n",
    "    'transmission', 'body_type', 'color', 'state'\n",
    "]\n",
    "\n",
    "features_2 = [\n",
    "    'car_age', 'mileage', 'engine_displacement', 'power', 'fuel_type', 'vehicle_brand'\n",
    "]\n",
    "\n",
    "target = 'price'\n",
    "\n",
    "data = data[features + [target]]\n",
    "data_2 = data[features_2 + [target]]\n",
    "data = data.dropna()\n",
    "data_2 = data_2.dropna()\n",
    "\n"
   ],
   "id": "5437d70bb7295ac7",
   "outputs": [],
   "execution_count": 4
  },
  {
   "metadata": {
    "ExecuteTime": {
     "end_time": "2025-01-21T23:33:05.931146Z",
     "start_time": "2025-01-21T23:33:04.834693Z"
    }
   },
   "cell_type": "code",
   "source": [
    "from sklearn.model_selection import train_test_split\n",
    "\n",
    "numeric_features = ['car_age', 'mileage', 'engine_displacement', 'power', 'fuel_consumption_in_city']\n",
    "categorical_features = ['fuel_type', 'voivodeship', 'offer_from', 'vehicle_brand', 'transmission', 'body_type', 'color', 'state']\n",
    "\n",
    "numeric_features_2 = ['car_age', 'mileage', 'engine_displacement', 'power']\n",
    "categorical_features_2 = ['fuel_type', 'vehicle_brand']\n",
    "\n",
    "scaler = StandardScaler()\n",
    "data[numeric_features] = scaler.fit_transform(data[numeric_features])\n",
    "data_2[numeric_features_2] = scaler.fit_transform(data_2[numeric_features_2])\n",
    "\n",
    "\n",
    "encoder = OneHotEncoder(drop=\"first\", sparse_output=False)\n",
    "encoder2 = OneHotEncoder(drop=\"first\", sparse_output=False)\n",
    "\n",
    "\n",
    "\n",
    "encoded_categorical = encoder.fit_transform(data[categorical_features])\n",
    "encoded_categorical_2 = encoder2.fit_transform(data_2[categorical_features_2])\n",
    "\n",
    "encoded_categorical_df = pd.DataFrame(\n",
    "    encoded_categorical, \n",
    "    columns=encoder.get_feature_names_out(categorical_features),\n",
    "    index=data.index\n",
    ")\n",
    "\n",
    "encoded_categorical_df_2 = pd.DataFrame(\n",
    "    encoded_categorical_2, \n",
    "    columns=encoder2.get_feature_names_out(categorical_features_2),\n",
    "    index=data_2.index\n",
    ")\n",
    "\n",
    "\n",
    "X = pd.concat([data[numeric_features], encoded_categorical_df], axis=1)\n",
    "y = data[target]\n",
    "\n",
    "X2 = pd.concat([data_2[numeric_features_2], encoded_categorical_df_2], axis=1)\n",
    "y2 = data_2[target]\n",
    "\n",
    "\n",
    "X_train, X_test, y_train, y_test = train_test_split(X, y, test_size=0.2, random_state=42)\n",
    "\n",
    "X_train2, X_test2, y_train2, y_test2 = train_test_split(X2, y2, test_size=0.2, random_state=42)\n",
    "\n",
    "\n",
    "\n",
    "\n"
   ],
   "id": "ae0b9da6c6b9de34",
   "outputs": [],
   "execution_count": 5
  },
  {
   "metadata": {
    "ExecuteTime": {
     "end_time": "2025-01-21T23:35:23.655839Z",
     "start_time": "2025-01-21T23:33:06.011106Z"
    }
   },
   "cell_type": "code",
   "source": [
    "from sklearn.metrics import mean_squared_error, mean_absolute_error, r2_score\n",
    "from sklearn.ensemble import RandomForestRegressor\n",
    "\n",
    "\n",
    "model = RandomForestRegressor(random_state=42)\n",
    "model.fit(X_train, y_train)\n",
    "\n",
    "\n",
    "y_pred = model.predict(X_test)\n",
    "\n",
    "# Ocena modelu\n",
    "mae = mean_absolute_error(y_test, y_pred)\n",
    "mse = mean_squared_error(y_test, y_pred)\n",
    "r2 = r2_score(y_test, y_pred)\n",
    "\n",
    "print(\"Pierwszy zestaw cech: \")\n",
    "print(\"MAE: \", mae)\n",
    "print(\"MSE: \", mse)\n",
    "print(\"R2: \", r2)\n",
    "\n",
    "\n",
    "import matplotlib.pyplot as plt\n",
    "\n",
    "importances = model.feature_importances_\n",
    "feature_names = X.columns\n",
    "sorted_idx = importances.argsort()\n",
    "\n",
    "top_5_idx = sorted_idx[-5:]\n",
    "\n",
    "plt.barh(feature_names[top_5_idx], importances[top_5_idx])\n",
    "plt.show()\n"
   ],
   "id": "e67c0478c8e5adda",
   "outputs": [
    {
     "name": "stdout",
     "output_type": "stream",
     "text": [
      "Pierwszy zestaw cech: \n",
      "MAE:  10625.73645105967\n",
      "MSE:  734614717.4248725\n",
      "R2:  0.9097206038523123\n"
     ]
    },
    {
     "data": {
      "text/plain": [
       "<Figure size 640x480 with 1 Axes>"
      ],
      "image/png": "[encoded data removed]"
     },
     "metadata": {},
     "output_type": "display_data"
    }
   ],
   "execution_count": 6
  },
  {
   "metadata": {
    "ExecuteTime": {
     "end_time": "2025-01-21T23:37:55.854500Z",
     "start_time": "2025-01-21T23:35:23.730225Z"
    }
   },
   "cell_type": "code",
   "source": [
    "model2 = RandomForestRegressor(random_state=42)\n",
    "model2.fit(X_train2, y_train2)\n",
    "\n",
    "y_pred2 = model2.predict(X_test2)\n",
    "\n",
    "\n",
    "mae2 = mean_absolute_error(y_test2, y_pred2)\n",
    "mse2 = mean_squared_error(y_test2, y_pred2)\n",
    "r2_2 = r2_score(y_test2, y_pred2)\n",
    "\n",
    "print(\"Drugi zestaw cech: \")\n",
    "print(\"MAE: \", mae2)\n",
    "print(\"MSE: \", mse2)\n",
    "print(\"R2: \", r2_2)\n",
    "\n",
    "\n",
    "importances = model.feature_importances_\n",
    "feature_names = X.columns\n",
    "sorted_idx = importances.argsort()\n",
    "\n",
    "top_5_idx = sorted_idx[-5:]\n",
    "\n",
    "plt.barh(feature_names[top_5_idx], importances[top_5_idx])\n",
    "plt.show()"
   ],
   "id": "e8c9ac016c4c30dc",
   "outputs": [
    {
     "name": "stdout",
     "output_type": "stream",
     "text": [
      "Drugi zestaw cech: \n",
      "MAE:  14416.567448071864\n",
      "MSE:  1529891959.5794032\n",
      "R2:  0.8698721109899313\n"
     ]
    },
    {
     "data": {
      "text/plain": [
       "<Figure size 640x480 with 1 Axes>"
      ],
      "image/png": "[encoded data removed]"
     },
     "metadata": {},
     "output_type": "display_data"
    }
   ],
   "execution_count": 7
  },
  {
   "metadata": {
    "ExecuteTime": {
     "end_time": "2025-01-21T23:37:58.433235Z",
     "start_time": "2025-01-21T23:37:56.015245Z"
    }
   },
   "cell_type": "code",
   "source": [
    "from sklearn.tree import DecisionTreeRegressor\n",
    "\n",
    "model = DecisionTreeRegressor(random_state=42)\n",
    "model.fit(X_train, y_train)\n",
    "\n",
    "y_pred = model.predict(X_test)\n",
    "\n",
    "mae = mean_absolute_error(y_test, y_pred)\n",
    "mse = mean_squared_error(y_test, y_pred)\n",
    "r2 = r2_score(y_test, y_pred)\n",
    "\n",
    "print(\"MAE: \", mae)\n",
    "print(\"MSE: \", mse)\n",
    "print(\"R2: \", r2)\n"
   ],
   "id": "82e05fd198960ce6",
   "outputs": [
    {
     "name": "stdout",
     "output_type": "stream",
     "text": [
      "MAE:  14746.011329615912\n",
      "MSE:  1457229556.5169804\n",
      "R2:  0.8209159151179546\n"
     ]
    }
   ],
   "execution_count": 8
  },
  {
   "metadata": {
    "ExecuteTime": {
     "end_time": "2025-01-21T23:38:01.248411Z",
     "start_time": "2025-01-21T23:37:58.520140Z"
    }
   },
   "cell_type": "code",
   "source": [
    "from sklearn.tree import DecisionTreeRegressor\n",
    "\n",
    "model2 = DecisionTreeRegressor(random_state=42)\n",
    "model2.fit(X_train2, y_train2)\n",
    "\n",
    "y_pred2 = model2.predict(X_test2)\n",
    "\n",
    "mae = mean_absolute_error(y_test2, y_pred2)\n",
    "mse = mean_squared_error(y_test2, y_pred2)\n",
    "r2 = r2_score(y_test2, y_pred2)\n",
    "\n",
    "print(\"MAE: \", mae)\n",
    "print(\"MSE: \", mse)\n",
    "print(\"R2: \", r2)"
   ],
   "id": "629de3e06366a342",
   "outputs": [
    {
     "name": "stdout",
     "output_type": "stream",
     "text": [
      "MAE:  17823.633388782797\n",
      "MSE:  2505331803.6415806\n",
      "R2:  0.7869042079498907\n"
     ]
    }
   ],
   "execution_count": 9
  },
  {
   "metadata": {
    "ExecuteTime": {
     "end_time": "2025-01-21T23:38:02.418404Z",
     "start_time": "2025-01-21T23:38:01.385934Z"
    }
   },
   "cell_type": "code",
   "source": [
    "from sklearn.linear_model import LinearRegression\n",
    "\n",
    "model = LinearRegression()\n",
    "model.fit(X_train, y_train)\n",
    "\n",
    "y_pred = model.predict(X_test)\n",
    "\n",
    "# Ocena modelu \n",
    "mae = mean_absolute_error(y_test, y_pred)\n",
    "mse = mean_squared_error(y_test, y_pred)\n",
    "r2 = r2_score(y_test, y_pred)\n",
    "\n",
    "print(\"MAE: \", mae)\n",
    "print(\"MSE: \", mse)\n",
    "print(\"R2: \", r2)"
   ],
   "id": "39eb9cc8b42b609c",
   "outputs": [
    {
     "name": "stdout",
     "output_type": "stream",
     "text": [
      "MAE:  25679.594642803677\n",
      "MSE:  2627346579.709963\n",
      "R2:  0.677116103093639\n"
     ]
    }
   ],
   "execution_count": 10
  },
  {
   "metadata": {
    "ExecuteTime": {
     "end_time": "2025-01-21T23:38:04.057538Z",
     "start_time": "2025-01-21T23:38:02.708834Z"
    }
   },
   "cell_type": "code",
   "source": [
    "from sklearn.linear_model import LinearRegression\n",
    "\n",
    "model2 = LinearRegression()\n",
    "model2.fit(X_train2, y_train2)\n",
    "\n",
    "y_pred2 = model2.predict(X_test2)\n",
    "\n",
    "# Ocena modelu \n",
    "mae = mean_absolute_error(y_test2, y_pred2)\n",
    "mse = mean_squared_error(y_test2, y_pred2)\n",
    "r2 = r2_score(y_test2, y_pred2)\n",
    "\n",
    "print(\"MAE: \", mae)\n",
    "print(\"MSE: \", mse)\n",
    "print(\"R2: \", r2)"
   ],
   "id": "5ddf7fe7246f4caf",
   "outputs": [
    {
     "name": "stdout",
     "output_type": "stream",
     "text": [
      "MAE:  33322.917245306104\n",
      "MSE:  4028970676.5263305\n",
      "R2:  0.6573081871977583\n"
     ]
    }
   ],
   "execution_count": 11
  },
  {
   "metadata": {
    "ExecuteTime": {
     "end_time": "2025-01-21T23:57:28.358787Z",
     "start_time": "2025-01-21T23:49:19.869687Z"
    }
   },
   "cell_type": "code",
   "source": [
    "from tensorflow import keras\n",
    "from tensorflow.keras import layers\n",
    "import tensorflow.keras.backend as K\n",
    "\n",
    "def r2_score(y_true, y_pred):\n",
    "    y_true = K.cast(y_true, dtype='float32')\n",
    "    ss_res = K.sum(K.square(y_true - y_pred))\n",
    "    ss_tot = K.sum(K.square(y_true - K.mean(y_true)))\n",
    "    return 1 - ss_res / (ss_tot + K.epsilon()) \n",
    "\n",
    "print(X_train.shape)\n",
    "input_shape = (122,)\n",
    "model = keras.Sequential(\n",
    "    [       \n",
    "        keras.Input(shape=input_shape),\n",
    "        layers.Dense(1024, activation='relu'),\n",
    "        layers.Dropout(0.3),\n",
    "        layers.Dense(512, activation='relu'),\n",
    "        layers.Dropout(0.3),\n",
    "        layers.Dense(256, activation='relu'),\n",
    "        layers.Dropout(0.3),\n",
    "        layers.Dense(units=1)\n",
    "    ]\n",
    ")\n",
    "\n",
    "model.summary()\n",
    "\n",
    "model.compile(optimizer='adam', loss='mean_squared_error',metrics=['mean_squared_error','mean_absolute_error', r2_score], )\n",
    "model.fit(X_train, y_train, batch_size = 32, epochs = 20, validation_split=0.2)\n",
    "\n",
    "metrics = model.evaluate(X_test, y_test)\n",
    "\n",
    "print(\"MAE:\", metrics[2])\n",
    "print(\"MSE:\", metrics[1])\n",
    "print(\"R2:\", metrics[3])\n",
    "      \n"
   ],
   "id": "8d44b39c905b5fab",
   "outputs": [
    {
     "name": "stdout",
     "output_type": "stream",
     "text": [
      "(93969, 122)\n"
     ]
    },
    {
     "data": {
      "text/plain": [
       "\u001B[1mModel: \"sequential_1\"\u001B[0m\n"
      ],
      "text/html": [
       "<pre style=\"white-space:pre;overflow-x:auto;line-height:normal;font-family:Menlo,'DejaVu Sans Mono',consolas,'Courier New',monospace\"><span style=\"font-weight: bold\">Model: \"sequential_1\"</span>\n",
       "</pre>\n"
      ]
     },
     "metadata": {},
     "output_type": "display_data"
    },
    {
     "data": {
      "text/plain": [
       "┏━━━━━━━━━━━━━━━━━━━━━━━━━━━━━━━━━┳━━━━━━━━━━━━━━━━━━━━━━━━┳━━━━━━━━━━━━━━━┓\n",
       "┃\u001B[1m \u001B[0m\u001B[1mLayer (type)                   \u001B[0m\u001B[1m \u001B[0m┃\u001B[1m \u001B[0m\u001B[1mOutput Shape          \u001B[0m\u001B[1m \u001B[0m┃\u001B[1m \u001B[0m\u001B[1m      Param #\u001B[0m\u001B[1m \u001B[0m┃\n",
       "┡━━━━━━━━━━━━━━━━━━━━━━━━━━━━━━━━━╇━━━━━━━━━━━━━━━━━━━━━━━━╇━━━━━━━━━━━━━━━┩\n",
       "│ dense_4 (\u001B[38;5;33mDense\u001B[0m)                 │ (\u001B[38;5;45mNone\u001B[0m, \u001B[38;5;34m1024\u001B[0m)           │       \u001B[38;5;34m125,952\u001B[0m │\n",
       "├─────────────────────────────────┼────────────────────────┼───────────────┤\n",
       "│ dropout_3 (\u001B[38;5;33mDropout\u001B[0m)             │ (\u001B[38;5;45mNone\u001B[0m, \u001B[38;5;34m1024\u001B[0m)           │             \u001B[38;5;34m0\u001B[0m │\n",
       "├─────────────────────────────────┼────────────────────────┼───────────────┤\n",
       "│ dense_5 (\u001B[38;5;33mDense\u001B[0m)                 │ (\u001B[38;5;45mNone\u001B[0m, \u001B[38;5;34m512\u001B[0m)            │       \u001B[38;5;34m524,800\u001B[0m │\n",
       "├─────────────────────────────────┼────────────────────────┼───────────────┤\n",
       "│ dropout_4 (\u001B[38;5;33mDropout\u001B[0m)             │ (\u001B[38;5;45mNone\u001B[0m, \u001B[38;5;34m512\u001B[0m)            │             \u001B[38;5;34m0\u001B[0m │\n",
       "├─────────────────────────────────┼────────────────────────┼───────────────┤\n",
       "│ dense_6 (\u001B[38;5;33mDense\u001B[0m)                 │ (\u001B[38;5;45mNone\u001B[0m, \u001B[38;5;34m256\u001B[0m)            │       \u001B[38;5;34m131,328\u001B[0m │\n",
       "├─────────────────────────────────┼────────────────────────┼───────────────┤\n",
       "│ dropout_5 (\u001B[38;5;33mDropout\u001B[0m)             │ (\u001B[38;5;45mNone\u001B[0m, \u001B[38;5;34m256\u001B[0m)            │             \u001B[38;5;34m0\u001B[0m │\n",
       "├─────────────────────────────────┼────────────────────────┼───────────────┤\n",
       "│ dense_7 (\u001B[38;5;33mDense\u001B[0m)                 │ (\u001B[38;5;45mNone\u001B[0m, \u001B[38;5;34m1\u001B[0m)              │           \u001B[38;5;34m257\u001B[0m │\n",
       "└─────────────────────────────────┴────────────────────────┴───────────────┘\n"
      ],
      "text/html": [
       "<pre style=\"white-space:pre;overflow-x:auto;line-height:normal;font-family:Menlo,'DejaVu Sans Mono',consolas,'Courier New',monospace\">┏━━━━━━━━━━━━━━━━━━━━━━━━━━━━━━━━━┳━━━━━━━━━━━━━━━━━━━━━━━━┳━━━━━━━━━━━━━━━┓\n",
       "┃<span style=\"font-weight: bold\"> Layer (type)                    </span>┃<span style=\"font-weight: bold\"> Output Shape           </span>┃<span style=\"font-weight: bold\">       Param # </span>┃\n",
       "┡━━━━━━━━━━━━━━━━━━━━━━━━━━━━━━━━━╇━━━━━━━━━━━━━━━━━━━━━━━━╇━━━━━━━━━━━━━━━┩\n",
       "│ dense_4 (<span style=\"color: #0087ff; text-decoration-color: #0087ff\">Dense</span>)                 │ (<span style=\"color: #00d7ff; text-decoration-color: #00d7ff\">None</span>, <span style=\"color: #00af00; text-decoration-color: #00af00\">1024</span>)           │       <span style=\"color: #00af00; text-decoration-color: #00af00\">125,952</span> │\n",
       "├─────────────────────────────────┼────────────────────────┼───────────────┤\n",
       "│ dropout_3 (<span style=\"color: #0087ff; text-decoration-color: #0087ff\">Dropout</span>)             │ (<span style=\"color: #00d7ff; text-decoration-color: #00d7ff\">None</span>, <span style=\"color: #00af00; text-decoration-color: #00af00\">1024</span>)           │             <span style=\"color: #00af00; text-decoration-color: #00af00\">0</span> │\n",
       "├─────────────────────────────────┼────────────────────────┼───────────────┤\n",
       "│ dense_5 (<span style=\"color: #0087ff; text-decoration-color: #0087ff\">Dense</span>)                 │ (<span style=\"color: #00d7ff; text-decoration-color: #00d7ff\">None</span>, <span style=\"color: #00af00; text-decoration-color: #00af00\">512</span>)            │       <span style=\"color: #00af00; text-decoration-color: #00af00\">524,800</span> │\n",
       "├─────────────────────────────────┼────────────────────────┼───────────────┤\n",
       "│ dropout_4 (<span style=\"color: #0087ff; text-decoration-color: #0087ff\">Dropout</span>)             │ (<span style=\"color: #00d7ff; text-decoration-color: #00d7ff\">None</span>, <span style=\"color: #00af00; text-decoration-color: #00af00\">512</span>)            │             <span style=\"color: #00af00; text-decoration-color: #00af00\">0</span> │\n",
       "├─────────────────────────────────┼────────────────────────┼───────────────┤\n",
       "│ dense_6 (<span style=\"color: #0087ff; text-decoration-color: #0087ff\">Dense</span>)                 │ (<span style=\"color: #00d7ff; text-decoration-color: #00d7ff\">None</span>, <span style=\"color: #00af00; text-decoration-color: #00af00\">256</span>)            │       <span style=\"color: #00af00; text-decoration-color: #00af00\">131,328</span> │\n",
       "├─────────────────────────────────┼────────────────────────┼───────────────┤\n",
       "│ dropout_5 (<span style=\"color: #0087ff; text-decoration-color: #0087ff\">Dropout</span>)             │ (<span style=\"color: #00d7ff; text-decoration-color: #00d7ff\">None</span>, <span style=\"color: #00af00; text-decoration-color: #00af00\">256</span>)            │             <span style=\"color: #00af00; text-decoration-color: #00af00\">0</span> │\n",
       "├─────────────────────────────────┼────────────────────────┼───────────────┤\n",
       "│ dense_7 (<span style=\"color: #0087ff; text-decoration-color: #0087ff\">Dense</span>)                 │ (<span style=\"color: #00d7ff; text-decoration-color: #00d7ff\">None</span>, <span style=\"color: #00af00; text-decoration-color: #00af00\">1</span>)              │           <span style=\"color: #00af00; text-decoration-color: #00af00\">257</span> │\n",
       "└─────────────────────────────────┴────────────────────────┴───────────────┘\n",
       "</pre>\n"
      ]
     },
     "metadata": {},
     "output_type": "display_data"
    },
    {
     "data": {
      "text/plain": [
       "\u001B[1m Total params: \u001B[0m\u001B[38;5;34m782,337\u001B[0m (2.98 MB)\n"
      ],
      "text/html": [
       "<pre style=\"white-space:pre;overflow-x:auto;line-height:normal;font-family:Menlo,'DejaVu Sans Mono',consolas,'Courier New',monospace\"><span style=\"font-weight: bold\"> Total params: </span><span style=\"color: #00af00; text-decoration-color: #00af00\">782,337</span> (2.98 MB)\n",
       "</pre>\n"
      ]
     },
     "metadata": {},
     "output_type": "display_data"
    },
    {
     "data": {
      "text/plain": [
       "\u001B[1m Trainable params: \u001B[0m\u001B[38;5;34m782,337\u001B[0m (2.98 MB)\n"
      ],
      "text/html": [
       "<pre style=\"white-space:pre;overflow-x:auto;line-height:normal;font-family:Menlo,'DejaVu Sans Mono',consolas,'Courier New',monospace\"><span style=\"font-weight: bold\"> Trainable params: </span><span style=\"color: #00af00; text-decoration-color: #00af00\">782,337</span> (2.98 MB)\n",
       "</pre>\n"
      ]
     },
     "metadata": {},
     "output_type": "display_data"
    },
    {
     "data": {
      "text/plain": [
       "\u001B[1m Non-trainable params: \u001B[0m\u001B[38;5;34m0\u001B[0m (0.00 B)\n"
      ],
      "text/html": [
       "<pre style=\"white-space:pre;overflow-x:auto;line-height:normal;font-family:Menlo,'DejaVu Sans Mono',consolas,'Courier New',monospace\"><span style=\"font-weight: bold\"> Non-trainable params: </span><span style=\"color: #00af00; text-decoration-color: #00af00\">0</span> (0.00 B)\n",
       "</pre>\n"
      ]
     },
     "metadata": {},
     "output_type": "display_data"
    },
    {
     "name": "stdout",
     "output_type": "stream",
     "text": [
      "Epoch 1/20\n",
      "\u001B[1m2350/2350\u001B[0m \u001B[32m━━━━━━━━━━━━━━━━━━━━\u001B[0m\u001B[37m\u001B[0m \u001B[1m25s\u001B[0m 10ms/step - loss: 4163204352.0000 - mean_absolute_error: 26596.1543 - mean_squared_error: 4163204352.0000 - r2_score: 0.4600 - val_loss: 3130380544.0000 - val_mean_absolute_error: 15189.8213 - val_mean_squared_error: 3130380544.0000 - val_r2_score: 0.7727\n",
      "Epoch 2/20\n",
      "\u001B[1m2350/2350\u001B[0m \u001B[32m━━━━━━━━━━━━━━━━━━━━\u001B[0m\u001B[37m\u001B[0m \u001B[1m23s\u001B[0m 10ms/step - loss: 1795163008.0000 - mean_absolute_error: 15128.3174 - mean_squared_error: 1795163008.0000 - r2_score: 0.7730 - val_loss: 2958135808.0000 - val_mean_absolute_error: 13743.4863 - val_mean_squared_error: 2958135808.0000 - val_r2_score: 0.8353\n",
      "Epoch 3/20\n",
      "\u001B[1m2350/2350\u001B[0m \u001B[32m━━━━━━━━━━━━━━━━━━━━\u001B[0m\u001B[37m\u001B[0m \u001B[1m23s\u001B[0m 10ms/step - loss: 2088796032.0000 - mean_absolute_error: 15234.8994 - mean_squared_error: 2088796032.0000 - r2_score: 0.7365 - val_loss: 2763189760.0000 - val_mean_absolute_error: 13579.8398 - val_mean_squared_error: 2763189760.0000 - val_r2_score: 0.8204\n",
      "Epoch 4/20\n",
      "\u001B[1m2350/2350\u001B[0m \u001B[32m━━━━━━━━━━━━━━━━━━━━\u001B[0m\u001B[37m\u001B[0m \u001B[1m24s\u001B[0m 10ms/step - loss: 1643159168.0000 - mean_absolute_error: 14526.6748 - mean_squared_error: 1643159168.0000 - r2_score: 0.7712 - val_loss: 2728312320.0000 - val_mean_absolute_error: 13677.0010 - val_mean_squared_error: 2728312320.0000 - val_r2_score: 0.8202\n",
      "Epoch 5/20\n",
      "\u001B[1m2350/2350\u001B[0m \u001B[32m━━━━━━━━━━━━━━━━━━━━\u001B[0m\u001B[37m\u001B[0m \u001B[1m24s\u001B[0m 10ms/step - loss: 1458065024.0000 - mean_absolute_error: 14188.7549 - mean_squared_error: 1458065024.0000 - r2_score: 0.6287 - val_loss: 2784636928.0000 - val_mean_absolute_error: 13242.6133 - val_mean_squared_error: 2784636928.0000 - val_r2_score: 0.8392\n",
      "Epoch 6/20\n",
      "\u001B[1m2350/2350\u001B[0m \u001B[32m━━━━━━━━━━━━━━━━━━━━\u001B[0m\u001B[37m\u001B[0m \u001B[1m24s\u001B[0m 10ms/step - loss: 1416951040.0000 - mean_absolute_error: 14134.2295 - mean_squared_error: 1416951040.0000 - r2_score: 0.7992 - val_loss: 2653442816.0000 - val_mean_absolute_error: 13265.6631 - val_mean_squared_error: 2653442816.0000 - val_r2_score: 0.8134\n",
      "Epoch 7/20\n",
      "\u001B[1m2350/2350\u001B[0m \u001B[32m━━━━━━━━━━━━━━━━━━━━\u001B[0m\u001B[37m\u001B[0m \u001B[1m24s\u001B[0m 10ms/step - loss: 1672723840.0000 - mean_absolute_error: 14192.7852 - mean_squared_error: 1672723840.0000 - r2_score: 0.7347 - val_loss: 2673545216.0000 - val_mean_absolute_error: 13546.9580 - val_mean_squared_error: 2673545216.0000 - val_r2_score: 0.7724\n",
      "Epoch 8/20\n",
      "\u001B[1m2350/2350\u001B[0m \u001B[32m━━━━━━━━━━━━━━━━━━━━\u001B[0m\u001B[37m\u001B[0m \u001B[1m24s\u001B[0m 10ms/step - loss: 1440535680.0000 - mean_absolute_error: 14246.5898 - mean_squared_error: 1440535680.0000 - r2_score: 0.8017 - val_loss: 2734849024.0000 - val_mean_absolute_error: 13666.5186 - val_mean_squared_error: 2734849024.0000 - val_r2_score: 0.7574\n",
      "Epoch 9/20\n",
      "\u001B[1m2350/2350\u001B[0m \u001B[32m━━━━━━━━━━━━━━━━━━━━\u001B[0m\u001B[37m\u001B[0m \u001B[1m24s\u001B[0m 10ms/step - loss: 1120125824.0000 - mean_absolute_error: 13519.4404 - mean_squared_error: 1120125824.0000 - r2_score: 0.8224 - val_loss: 2723244288.0000 - val_mean_absolute_error: 13474.9902 - val_mean_squared_error: 2723244288.0000 - val_r2_score: 0.8277\n",
      "Epoch 10/20\n",
      "\u001B[1m2350/2350\u001B[0m \u001B[32m━━━━━━━━━━━━━━━━━━━━\u001B[0m\u001B[37m\u001B[0m \u001B[1m24s\u001B[0m 10ms/step - loss: 1231265920.0000 - mean_absolute_error: 13631.5947 - mean_squared_error: 1231265920.0000 - r2_score: 0.8098 - val_loss: 2617721600.0000 - val_mean_absolute_error: 13031.9287 - val_mean_squared_error: 2617721600.0000 - val_r2_score: 0.8076\n",
      "Epoch 11/20\n",
      "\u001B[1m2350/2350\u001B[0m \u001B[32m━━━━━━━━━━━━━━━━━━━━\u001B[0m\u001B[37m\u001B[0m \u001B[1m24s\u001B[0m 10ms/step - loss: 1363824128.0000 - mean_absolute_error: 13755.9893 - mean_squared_error: 1363824128.0000 - r2_score: 0.8166 - val_loss: 2638404352.0000 - val_mean_absolute_error: 12865.7139 - val_mean_squared_error: 2638404352.0000 - val_r2_score: 0.8298\n",
      "Epoch 12/20\n",
      "\u001B[1m2350/2350\u001B[0m \u001B[32m━━━━━━━━━━━━━━━━━━━━\u001B[0m\u001B[37m\u001B[0m \u001B[1m28s\u001B[0m 12ms/step - loss: 1310710912.0000 - mean_absolute_error: 13683.0029 - mean_squared_error: 1310710912.0000 - r2_score: 0.8062 - val_loss: 2631691008.0000 - val_mean_absolute_error: 12877.6309 - val_mean_squared_error: 2631691008.0000 - val_r2_score: 0.8243\n",
      "Epoch 13/20\n",
      "\u001B[1m2350/2350\u001B[0m \u001B[32m━━━━━━━━━━━━━━━━━━━━\u001B[0m\u001B[37m\u001B[0m \u001B[1m25s\u001B[0m 11ms/step - loss: 1318378752.0000 - mean_absolute_error: 13562.8682 - mean_squared_error: 1318378752.0000 - r2_score: 0.7539 - val_loss: 2624989440.0000 - val_mean_absolute_error: 13159.1865 - val_mean_squared_error: 2624989440.0000 - val_r2_score: 0.8088\n",
      "Epoch 14/20\n",
      "\u001B[1m2350/2350\u001B[0m \u001B[32m━━━━━━━━━━━━━━━━━━━━\u001B[0m\u001B[37m\u001B[0m \u001B[1m27s\u001B[0m 11ms/step - loss: 1373453184.0000 - mean_absolute_error: 13591.0898 - mean_squared_error: 1373453184.0000 - r2_score: 0.8083 - val_loss: 2618022912.0000 - val_mean_absolute_error: 12911.7920 - val_mean_squared_error: 2618022912.0000 - val_r2_score: 0.8295\n",
      "Epoch 15/20\n",
      "\u001B[1m2350/2350\u001B[0m \u001B[32m━━━━━━━━━━━━━━━━━━━━\u001B[0m\u001B[37m\u001B[0m \u001B[1m24s\u001B[0m 10ms/step - loss: 1134423936.0000 - mean_absolute_error: 13251.4736 - mean_squared_error: 1134423936.0000 - r2_score: 0.8218 - val_loss: 2561224704.0000 - val_mean_absolute_error: 12705.0410 - val_mean_squared_error: 2561224704.0000 - val_r2_score: 0.8142\n",
      "Epoch 16/20\n",
      "\u001B[1m2350/2350\u001B[0m \u001B[32m━━━━━━━━━━━━━━━━━━━━\u001B[0m\u001B[37m\u001B[0m \u001B[1m24s\u001B[0m 10ms/step - loss: 1272502784.0000 - mean_absolute_error: 13215.0801 - mean_squared_error: 1272502784.0000 - r2_score: 0.8232 - val_loss: 2672966144.0000 - val_mean_absolute_error: 12687.1533 - val_mean_squared_error: 2672966144.0000 - val_r2_score: 0.8364\n",
      "Epoch 17/20\n",
      "\u001B[1m2350/2350\u001B[0m \u001B[32m━━━━━━━━━━━━━━━━━━━━\u001B[0m\u001B[37m\u001B[0m \u001B[1m24s\u001B[0m 10ms/step - loss: 1201085056.0000 - mean_absolute_error: 13241.9482 - mean_squared_error: 1201085056.0000 - r2_score: 0.8349 - val_loss: 2667102976.0000 - val_mean_absolute_error: 13160.8594 - val_mean_squared_error: 2667102976.0000 - val_r2_score: 0.7648\n",
      "Epoch 18/20\n",
      "\u001B[1m2350/2350\u001B[0m \u001B[32m━━━━━━━━━━━━━━━━━━━━\u001B[0m\u001B[37m\u001B[0m \u001B[1m24s\u001B[0m 10ms/step - loss: 1257594240.0000 - mean_absolute_error: 13308.7500 - mean_squared_error: 1257594240.0000 - r2_score: 0.8192 - val_loss: 2563872000.0000 - val_mean_absolute_error: 12585.0586 - val_mean_squared_error: 2563872000.0000 - val_r2_score: 0.8235\n",
      "Epoch 19/20\n",
      "\u001B[1m2350/2350\u001B[0m \u001B[32m━━━━━━━━━━━━━━━━━━━━\u001B[0m\u001B[37m\u001B[0m \u001B[1m24s\u001B[0m 10ms/step - loss: 1152406912.0000 - mean_absolute_error: 13230.6533 - mean_squared_error: 1152406912.0000 - r2_score: 0.8249 - val_loss: 2577508608.0000 - val_mean_absolute_error: 12491.7773 - val_mean_squared_error: 2577508608.0000 - val_r2_score: 0.8289\n",
      "Epoch 20/20\n",
      "\u001B[1m2350/2350\u001B[0m \u001B[32m━━━━━━━━━━━━━━━━━━━━\u001B[0m\u001B[37m\u001B[0m \u001B[1m24s\u001B[0m 10ms/step - loss: 1021013312.0000 - mean_absolute_error: 12896.1963 - mean_squared_error: 1021013312.0000 - r2_score: 0.8447 - val_loss: 2595273216.0000 - val_mean_absolute_error: 12502.2842 - val_mean_squared_error: 2595273216.0000 - val_r2_score: 0.8255\n",
      "\u001B[1m735/735\u001B[0m \u001B[32m━━━━━━━━━━━━━━━━━━━━\u001B[0m\u001B[37m\u001B[0m \u001B[1m3s\u001B[0m 4ms/step - loss: 1009162944.0000 - mean_absolute_error: 12302.7158 - mean_squared_error: 1009162944.0000 - r2_score: 0.8678\n",
      "MAE: 12176.8232421875\n",
      "MSE: 951210752.0\n",
      "R2: 0.8701480627059937\n"
     ]
    }
   ],
   "execution_count": 13
  },
  {
   "metadata": {
    "ExecuteTime": {
     "end_time": "2025-01-22T00:32:22.199390Z",
     "start_time": "2025-01-22T00:16:28.523577Z"
    }
   },
   "cell_type": "code",
   "source": [
    "print(X_train2.shape)\n",
    "input_shape = (109,)\n",
    "model2 = keras.Sequential(\n",
    "    [       \n",
    "        keras.Input(shape=input_shape),\n",
    "        layers.Dense(1024, activation='relu'),\n",
    "        layers.Dropout(0.3),\n",
    "        layers.Dense(512, activation='relu'),\n",
    "        layers.Dropout(0.3),\n",
    "        layers.Dense(256, activation='relu'),\n",
    "        layers.Dropout(0.3),\n",
    "        layers.Dense(units=1)\n",
    "    ]\n",
    ")\n",
    "\n",
    "model2.summary()\n",
    "\n",
    "model2.compile(optimizer='adam', loss='mean_squared_error',metrics=['mean_squared_error','mean_absolute_error', r2_score])\n",
    "\n",
    "model2.fit(X_train2, y_train2, batch_size = 32, epochs = 20, validation_split=0.2)\n",
    "\n",
    "metrics = model2.evaluate(X_test2, y_test2)\n",
    "\n",
    "print(\"MAE:\", metrics[2])\n",
    "print(\"MSE:\", metrics[1])\n",
    "print(\"R2:\", metrics[3])\n",
    "\n"
   ],
   "id": "808edae8b6858b7a",
   "outputs": [
    {
     "name": "stdout",
     "output_type": "stream",
     "text": [
      "(157856, 109)\n"
     ]
    },
    {
     "data": {
      "text/plain": [
       "\u001B[1mModel: \"sequential_3\"\u001B[0m\n"
      ],
      "text/html": [
       "<pre style=\"white-space:pre;overflow-x:auto;line-height:normal;font-family:Menlo,'DejaVu Sans Mono',consolas,'Courier New',monospace\"><span style=\"font-weight: bold\">Model: \"sequential_3\"</span>\n",
       "</pre>\n"
      ]
     },
     "metadata": {},
     "output_type": "display_data"
    },
    {
     "data": {
      "text/plain": [
       "┏━━━━━━━━━━━━━━━━━━━━━━━━━━━━━━━━━┳━━━━━━━━━━━━━━━━━━━━━━━━┳━━━━━━━━━━━━━━━┓\n",
       "┃\u001B[1m \u001B[0m\u001B[1mLayer (type)                   \u001B[0m\u001B[1m \u001B[0m┃\u001B[1m \u001B[0m\u001B[1mOutput Shape          \u001B[0m\u001B[1m \u001B[0m┃\u001B[1m \u001B[0m\u001B[1m      Param #\u001B[0m\u001B[1m \u001B[0m┃\n",
       "┡━━━━━━━━━━━━━━━━━━━━━━━━━━━━━━━━━╇━━━━━━━━━━━━━━━━━━━━━━━━╇━━━━━━━━━━━━━━━┩\n",
       "│ dense_12 (\u001B[38;5;33mDense\u001B[0m)                │ (\u001B[38;5;45mNone\u001B[0m, \u001B[38;5;34m1024\u001B[0m)           │       \u001B[38;5;34m112,640\u001B[0m │\n",
       "├─────────────────────────────────┼────────────────────────┼───────────────┤\n",
       "│ dropout_9 (\u001B[38;5;33mDropout\u001B[0m)             │ (\u001B[38;5;45mNone\u001B[0m, \u001B[38;5;34m1024\u001B[0m)           │             \u001B[38;5;34m0\u001B[0m │\n",
       "├─────────────────────────────────┼────────────────────────┼───────────────┤\n",
       "│ dense_13 (\u001B[38;5;33mDense\u001B[0m)                │ (\u001B[38;5;45mNone\u001B[0m, \u001B[38;5;34m512\u001B[0m)            │       \u001B[38;5;34m524,800\u001B[0m │\n",
       "├─────────────────────────────────┼────────────────────────┼───────────────┤\n",
       "│ dropout_10 (\u001B[38;5;33mDropout\u001B[0m)            │ (\u001B[38;5;45mNone\u001B[0m, \u001B[38;5;34m512\u001B[0m)            │             \u001B[38;5;34m0\u001B[0m │\n",
       "├─────────────────────────────────┼────────────────────────┼───────────────┤\n",
       "│ dense_14 (\u001B[38;5;33mDense\u001B[0m)                │ (\u001B[38;5;45mNone\u001B[0m, \u001B[38;5;34m256\u001B[0m)            │       \u001B[38;5;34m131,328\u001B[0m │\n",
       "├─────────────────────────────────┼────────────────────────┼───────────────┤\n",
       "│ dropout_11 (\u001B[38;5;33mDropout\u001B[0m)            │ (\u001B[38;5;45mNone\u001B[0m, \u001B[38;5;34m256\u001B[0m)            │             \u001B[38;5;34m0\u001B[0m │\n",
       "├─────────────────────────────────┼────────────────────────┼───────────────┤\n",
       "│ dense_15 (\u001B[38;5;33mDense\u001B[0m)                │ (\u001B[38;5;45mNone\u001B[0m, \u001B[38;5;34m1\u001B[0m)              │           \u001B[38;5;34m257\u001B[0m │\n",
       "└─────────────────────────────────┴────────────────────────┴───────────────┘\n"
      ],
      "text/html": [
       "<pre style=\"white-space:pre;overflow-x:auto;line-height:normal;font-family:Menlo,'DejaVu Sans Mono',consolas,'Courier New',monospace\">┏━━━━━━━━━━━━━━━━━━━━━━━━━━━━━━━━━┳━━━━━━━━━━━━━━━━━━━━━━━━┳━━━━━━━━━━━━━━━┓\n",
       "┃<span style=\"font-weight: bold\"> Layer (type)                    </span>┃<span style=\"font-weight: bold\"> Output Shape           </span>┃<span style=\"font-weight: bold\">       Param # </span>┃\n",
       "┡━━━━━━━━━━━━━━━━━━━━━━━━━━━━━━━━━╇━━━━━━━━━━━━━━━━━━━━━━━━╇━━━━━━━━━━━━━━━┩\n",
       "│ dense_12 (<span style=\"color: #0087ff; text-decoration-color: #0087ff\">Dense</span>)                │ (<span style=\"color: #00d7ff; text-decoration-color: #00d7ff\">None</span>, <span style=\"color: #00af00; text-decoration-color: #00af00\">1024</span>)           │       <span style=\"color: #00af00; text-decoration-color: #00af00\">112,640</span> │\n",
       "├─────────────────────────────────┼────────────────────────┼───────────────┤\n",
       "│ dropout_9 (<span style=\"color: #0087ff; text-decoration-color: #0087ff\">Dropout</span>)             │ (<span style=\"color: #00d7ff; text-decoration-color: #00d7ff\">None</span>, <span style=\"color: #00af00; text-decoration-color: #00af00\">1024</span>)           │             <span style=\"color: #00af00; text-decoration-color: #00af00\">0</span> │\n",
       "├─────────────────────────────────┼────────────────────────┼───────────────┤\n",
       "│ dense_13 (<span style=\"color: #0087ff; text-decoration-color: #0087ff\">Dense</span>)                │ (<span style=\"color: #00d7ff; text-decoration-color: #00d7ff\">None</span>, <span style=\"color: #00af00; text-decoration-color: #00af00\">512</span>)            │       <span style=\"color: #00af00; text-decoration-color: #00af00\">524,800</span> │\n",
       "├─────────────────────────────────┼────────────────────────┼───────────────┤\n",
       "│ dropout_10 (<span style=\"color: #0087ff; text-decoration-color: #0087ff\">Dropout</span>)            │ (<span style=\"color: #00d7ff; text-decoration-color: #00d7ff\">None</span>, <span style=\"color: #00af00; text-decoration-color: #00af00\">512</span>)            │             <span style=\"color: #00af00; text-decoration-color: #00af00\">0</span> │\n",
       "├─────────────────────────────────┼────────────────────────┼───────────────┤\n",
       "│ dense_14 (<span style=\"color: #0087ff; text-decoration-color: #0087ff\">Dense</span>)                │ (<span style=\"color: #00d7ff; text-decoration-color: #00d7ff\">None</span>, <span style=\"color: #00af00; text-decoration-color: #00af00\">256</span>)            │       <span style=\"color: #00af00; text-decoration-color: #00af00\">131,328</span> │\n",
       "├─────────────────────────────────┼────────────────────────┼───────────────┤\n",
       "│ dropout_11 (<span style=\"color: #0087ff; text-decoration-color: #0087ff\">Dropout</span>)            │ (<span style=\"color: #00d7ff; text-decoration-color: #00d7ff\">None</span>, <span style=\"color: #00af00; text-decoration-color: #00af00\">256</span>)            │             <span style=\"color: #00af00; text-decoration-color: #00af00\">0</span> │\n",
       "├─────────────────────────────────┼────────────────────────┼───────────────┤\n",
       "│ dense_15 (<span style=\"color: #0087ff; text-decoration-color: #0087ff\">Dense</span>)                │ (<span style=\"color: #00d7ff; text-decoration-color: #00d7ff\">None</span>, <span style=\"color: #00af00; text-decoration-color: #00af00\">1</span>)              │           <span style=\"color: #00af00; text-decoration-color: #00af00\">257</span> │\n",
       "└─────────────────────────────────┴────────────────────────┴───────────────┘\n",
       "</pre>\n"
      ]
     },
     "metadata": {},
     "output_type": "display_data"
    },
    {
     "data": {
      "text/plain": [
       "\u001B[1m Total params: \u001B[0m\u001B[38;5;34m769,025\u001B[0m (2.93 MB)\n"
      ],
      "text/html": [
       "<pre style=\"white-space:pre;overflow-x:auto;line-height:normal;font-family:Menlo,'DejaVu Sans Mono',consolas,'Courier New',monospace\"><span style=\"font-weight: bold\"> Total params: </span><span style=\"color: #00af00; text-decoration-color: #00af00\">769,025</span> (2.93 MB)\n",
       "</pre>\n"
      ]
     },
     "metadata": {},
     "output_type": "display_data"
    },
    {
     "data": {
      "text/plain": [
       "\u001B[1m Trainable params: \u001B[0m\u001B[38;5;34m769,025\u001B[0m (2.93 MB)\n"
      ],
      "text/html": [
       "<pre style=\"white-space:pre;overflow-x:auto;line-height:normal;font-family:Menlo,'DejaVu Sans Mono',consolas,'Courier New',monospace\"><span style=\"font-weight: bold\"> Trainable params: </span><span style=\"color: #00af00; text-decoration-color: #00af00\">769,025</span> (2.93 MB)\n",
       "</pre>\n"
      ]
     },
     "metadata": {},
     "output_type": "display_data"
    },
    {
     "data": {
      "text/plain": [
       "\u001B[1m Non-trainable params: \u001B[0m\u001B[38;5;34m0\u001B[0m (0.00 B)\n"
      ],
      "text/html": [
       "<pre style=\"white-space:pre;overflow-x:auto;line-height:normal;font-family:Menlo,'DejaVu Sans Mono',consolas,'Courier New',monospace\"><span style=\"font-weight: bold\"> Non-trainable params: </span><span style=\"color: #00af00; text-decoration-color: #00af00\">0</span> (0.00 B)\n",
       "</pre>\n"
      ]
     },
     "metadata": {},
     "output_type": "display_data"
    },
    {
     "name": "stdout",
     "output_type": "stream",
     "text": [
      "Epoch 1/20\n",
      "\u001B[1m3947/3947\u001B[0m \u001B[32m━━━━━━━━━━━━━━━━━━━━\u001B[0m\u001B[37m\u001B[0m \u001B[1m56s\u001B[0m 14ms/step - loss: 5471126016.0000 - mean_absolute_error: 30626.2656 - mean_squared_error: 5471126016.0000 - r2_score: 0.5429 - val_loss: 1852750208.0000 - val_mean_absolute_error: 18117.7266 - val_mean_squared_error: 1852750208.0000 - val_r2_score: 0.8215\n",
      "Epoch 2/20\n",
      "\u001B[1m3947/3947\u001B[0m \u001B[32m━━━━━━━━━━━━━━━━━━━━\u001B[0m\u001B[37m\u001B[0m \u001B[1m50s\u001B[0m 13ms/step - loss: 2246087680.0000 - mean_absolute_error: 19075.2227 - mean_squared_error: 2246087680.0000 - r2_score: 0.7972 - val_loss: 1765020416.0000 - val_mean_absolute_error: 17738.1523 - val_mean_squared_error: 1765020416.0000 - val_r2_score: 0.8356\n",
      "Epoch 3/20\n",
      "\u001B[1m3947/3947\u001B[0m \u001B[32m━━━━━━━━━━━━━━━━━━━━\u001B[0m\u001B[37m\u001B[0m \u001B[1m52s\u001B[0m 13ms/step - loss: 2376253696.0000 - mean_absolute_error: 18871.7363 - mean_squared_error: 2376253696.0000 - r2_score: 0.8011 - val_loss: 1643505792.0000 - val_mean_absolute_error: 17130.9258 - val_mean_squared_error: 1643505792.0000 - val_r2_score: 0.8306\n",
      "Epoch 4/20\n",
      "\u001B[1m3947/3947\u001B[0m \u001B[32m━━━━━━━━━━━━━━━━━━━━\u001B[0m\u001B[37m\u001B[0m \u001B[1m52s\u001B[0m 13ms/step - loss: 2756740096.0000 - mean_absolute_error: 18422.2344 - mean_squared_error: 2756740096.0000 - r2_score: 0.8109 - val_loss: 1644010496.0000 - val_mean_absolute_error: 17347.9707 - val_mean_squared_error: 1644010496.0000 - val_r2_score: 0.8308\n",
      "Epoch 5/20\n",
      "\u001B[1m3947/3947\u001B[0m \u001B[32m━━━━━━━━━━━━━━━━━━━━\u001B[0m\u001B[37m\u001B[0m \u001B[1m53s\u001B[0m 14ms/step - loss: 1946754560.0000 - mean_absolute_error: 18206.2910 - mean_squared_error: 1946754560.0000 - r2_score: 0.8111 - val_loss: 1774610816.0000 - val_mean_absolute_error: 17066.2246 - val_mean_squared_error: 1774610816.0000 - val_r2_score: 0.8455\n",
      "Epoch 6/20\n",
      "\u001B[1m3947/3947\u001B[0m \u001B[32m━━━━━━━━━━━━━━━━━━━━\u001B[0m\u001B[37m\u001B[0m \u001B[1m50s\u001B[0m 13ms/step - loss: 2362454528.0000 - mean_absolute_error: 18002.7812 - mean_squared_error: 2362454528.0000 - r2_score: 0.8091 - val_loss: 1608417920.0000 - val_mean_absolute_error: 16271.0098 - val_mean_squared_error: 1608417920.0000 - val_r2_score: 0.8481\n",
      "Epoch 7/20\n",
      "\u001B[1m3947/3947\u001B[0m \u001B[32m━━━━━━━━━━━━━━━━━━━━\u001B[0m\u001B[37m\u001B[0m \u001B[1m52s\u001B[0m 13ms/step - loss: 1945220224.0000 - mean_absolute_error: 17788.2500 - mean_squared_error: 1945220224.0000 - r2_score: 0.8174 - val_loss: 1555082880.0000 - val_mean_absolute_error: 16153.3721 - val_mean_squared_error: 1555082880.0000 - val_r2_score: 0.8372\n",
      "Epoch 8/20\n",
      "\u001B[1m3947/3947\u001B[0m \u001B[32m━━━━━━━━━━━━━━━━━━━━\u001B[0m\u001B[37m\u001B[0m \u001B[1m51s\u001B[0m 13ms/step - loss: 2275430912.0000 - mean_absolute_error: 17747.3301 - mean_squared_error: 2275430912.0000 - r2_score: 0.8191 - val_loss: 1540957568.0000 - val_mean_absolute_error: 16020.9141 - val_mean_squared_error: 1540957568.0000 - val_r2_score: 0.8471\n",
      "Epoch 9/20\n",
      "\u001B[1m3947/3947\u001B[0m \u001B[32m━━━━━━━━━━━━━━━━━━━━\u001B[0m\u001B[37m\u001B[0m \u001B[1m49s\u001B[0m 12ms/step - loss: 2066035584.0000 - mean_absolute_error: 17700.1406 - mean_squared_error: 2066035584.0000 - r2_score: 0.8127 - val_loss: 1522803328.0000 - val_mean_absolute_error: 15900.4922 - val_mean_squared_error: 1522803328.0000 - val_r2_score: 0.8495\n",
      "Epoch 10/20\n",
      "\u001B[1m3947/3947\u001B[0m \u001B[32m━━━━━━━━━━━━━━━━━━━━\u001B[0m\u001B[37m\u001B[0m \u001B[1m49s\u001B[0m 12ms/step - loss: 1718206464.0000 - mean_absolute_error: 17423.4746 - mean_squared_error: 1718206464.0000 - r2_score: 0.8117 - val_loss: 1718236544.0000 - val_mean_absolute_error: 16448.0488 - val_mean_squared_error: 1718236544.0000 - val_r2_score: 0.8532\n",
      "Epoch 11/20\n",
      "\u001B[1m3947/3947\u001B[0m \u001B[32m━━━━━━━━━━━━━━━━━━━━\u001B[0m\u001B[37m\u001B[0m \u001B[1m55s\u001B[0m 14ms/step - loss: 2133820800.0000 - mean_absolute_error: 17549.1035 - mean_squared_error: 2133820800.0000 - r2_score: 0.8272 - val_loss: 1565762816.0000 - val_mean_absolute_error: 15835.8770 - val_mean_squared_error: 1565762816.0000 - val_r2_score: 0.8555\n",
      "Epoch 12/20\n",
      "\u001B[1m3947/3947\u001B[0m \u001B[32m━━━━━━━━━━━━━━━━━━━━\u001B[0m\u001B[37m\u001B[0m \u001B[1m51s\u001B[0m 13ms/step - loss: 1881979520.0000 - mean_absolute_error: 17619.6367 - mean_squared_error: 1881979520.0000 - r2_score: 0.8202 - val_loss: 1528754432.0000 - val_mean_absolute_error: 15741.4639 - val_mean_squared_error: 1528754432.0000 - val_r2_score: 0.8538\n",
      "Epoch 13/20\n",
      "\u001B[1m3947/3947\u001B[0m \u001B[32m━━━━━━━━━━━━━━━━━━━━\u001B[0m\u001B[37m\u001B[0m \u001B[1m44s\u001B[0m 11ms/step - loss: 2147936512.0000 - mean_absolute_error: 17458.7891 - mean_squared_error: 2147936512.0000 - r2_score: 0.8248 - val_loss: 1600751872.0000 - val_mean_absolute_error: 16208.6006 - val_mean_squared_error: 1600751872.0000 - val_r2_score: 0.8525\n",
      "Epoch 14/20\n",
      "\u001B[1m3947/3947\u001B[0m \u001B[32m━━━━━━━━━━━━━━━━━━━━\u001B[0m\u001B[37m\u001B[0m \u001B[1m44s\u001B[0m 11ms/step - loss: 1861294592.0000 - mean_absolute_error: 17265.5508 - mean_squared_error: 1861294592.0000 - r2_score: 0.8146 - val_loss: 1557199616.0000 - val_mean_absolute_error: 16315.1582 - val_mean_squared_error: 1557199616.0000 - val_r2_score: 0.8492\n",
      "Epoch 15/20\n",
      "\u001B[1m3947/3947\u001B[0m \u001B[32m━━━━━━━━━━━━━━━━━━━━\u001B[0m\u001B[37m\u001B[0m \u001B[1m39s\u001B[0m 10ms/step - loss: 1843577856.0000 - mean_absolute_error: 17301.2539 - mean_squared_error: 1843577856.0000 - r2_score: 0.8232 - val_loss: 1502515840.0000 - val_mean_absolute_error: 15857.8633 - val_mean_squared_error: 1502515840.0000 - val_r2_score: 0.8404\n",
      "Epoch 16/20\n",
      "\u001B[1m3947/3947\u001B[0m \u001B[32m━━━━━━━━━━━━━━━━━━━━\u001B[0m\u001B[37m\u001B[0m \u001B[1m44s\u001B[0m 11ms/step - loss: 1752483712.0000 - mean_absolute_error: 17223.6445 - mean_squared_error: 1752483712.0000 - r2_score: 0.8229 - val_loss: 1715654784.0000 - val_mean_absolute_error: 17305.1289 - val_mean_squared_error: 1715654784.0000 - val_r2_score: 0.7976\n",
      "Epoch 17/20\n",
      "\u001B[1m3947/3947\u001B[0m \u001B[32m━━━━━━━━━━━━━━━━━━━━\u001B[0m\u001B[37m\u001B[0m \u001B[1m40s\u001B[0m 10ms/step - loss: 1601536640.0000 - mean_absolute_error: 17049.8184 - mean_squared_error: 1601536640.0000 - r2_score: 0.8256 - val_loss: 1505250688.0000 - val_mean_absolute_error: 15941.5273 - val_mean_squared_error: 1505250688.0000 - val_r2_score: 0.8363\n",
      "Epoch 18/20\n",
      "\u001B[1m3947/3947\u001B[0m \u001B[32m━━━━━━━━━━━━━━━━━━━━\u001B[0m\u001B[37m\u001B[0m \u001B[1m39s\u001B[0m 10ms/step - loss: 1688458624.0000 - mean_absolute_error: 17128.3125 - mean_squared_error: 1688458624.0000 - r2_score: 0.8263 - val_loss: 1472590464.0000 - val_mean_absolute_error: 15549.8184 - val_mean_squared_error: 1472590464.0000 - val_r2_score: 0.8505\n",
      "Epoch 19/20\n",
      "\u001B[1m3947/3947\u001B[0m \u001B[32m━━━━━━━━━━━━━━━━━━━━\u001B[0m\u001B[37m\u001B[0m \u001B[1m39s\u001B[0m 10ms/step - loss: 1965369088.0000 - mean_absolute_error: 17204.0156 - mean_squared_error: 1965369088.0000 - r2_score: 0.8227 - val_loss: 1507550848.0000 - val_mean_absolute_error: 15549.0400 - val_mean_squared_error: 1507550848.0000 - val_r2_score: 0.8571\n",
      "Epoch 20/20\n",
      "\u001B[1m3947/3947\u001B[0m \u001B[32m━━━━━━━━━━━━━━━━━━━━\u001B[0m\u001B[37m\u001B[0m \u001B[1m39s\u001B[0m 10ms/step - loss: 1740911872.0000 - mean_absolute_error: 17008.6816 - mean_squared_error: 1740911872.0000 - r2_score: 0.8317 - val_loss: 1545149440.0000 - val_mean_absolute_error: 16292.6680 - val_mean_squared_error: 1545149440.0000 - val_r2_score: 0.8527\n",
      "\u001B[1m1234/1234\u001B[0m \u001B[32m━━━━━━━━━━━━━━━━━━━━\u001B[0m\u001B[37m\u001B[0m \u001B[1m4s\u001B[0m 3ms/step - loss: 1714350080.0000 - mean_absolute_error: 16540.8828 - mean_squared_error: 1714350080.0000 - r2_score: 0.8047\n",
      "MAE: 16614.37109375\n",
      "MSE: 1787761536.0\n",
      "R2: 0.8273174166679382\n"
     ]
    }
   ],
   "execution_count": 15
  },
  {
   "metadata": {},
   "cell_type": "code",
   "outputs": [],
   "execution_count": null,
   "source": "",
   "id": "db52f0d13c2dbd6b"
  }
 ],
 "metadata": {
  "kernelspec": {
   "display_name": "Python 3",
   "language": "python",
   "name": "python3"
  },
  "language_info": {
   "codemirror_mode": {
    "name": "ipython",
    "version": 2
   },
   "file_extension": ".py",
   "mimetype": "text/x-python",
   "name": "python",
   "nbconvert_exporter": "python",
   "pygments_lexer": "ipython2",
   "version": "2.7.6"
  }
 },
 "nbformat": 4,
 "nbformat_minor": 5
}
